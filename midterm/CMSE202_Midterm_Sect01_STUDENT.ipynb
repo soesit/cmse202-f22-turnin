{
 "cells": [
  {
   "cell_type": "markdown",
   "id": "6c5e6854-6890-4440-927d-1c5666fe7858",
   "metadata": {
    "tags": []
   },
   "source": [
    "# CMSE 202 Midterm Fall 22 (Sect. 001)\n",
    "\n",
    "The goal of this midterm is to give you the opportunity to test out some of the skills that you've developed thus far this semester. In particular, you'll reflect on what you know about writing code using Python and showcase some of your new programming skills.\n",
    "\n",
    "**Important note about using online resources:** This exam is \"open internet\". That means that you can look up documentation, google how to accomplish certain Python tasks, etc. Being able to effectively use the internet for computational modeling and data science is a very important skill, so we want to make sure you have the opportunity to exercise that skill. **However, the use of any person-to-person communication software is absolutely not acceptable.**\n",
    "\n",
    "**Do your own work.** This midterm is designed to give you the opportunity to show the instructor what you can do and you should hold yourself accountable for maintaining a high level of academic integrity. Any violation of academic integrity could result in you receiving a zero on the midterm.\n",
    "\n",
    "You are encouraged to look through the entire exam before you get started so that you can appropriately budget your time and understand the broad goals of the exam.\n",
    "\n",
    "If you have any questions during the exam, you may ask the instructor, the TA, or the LA privately; simply raise your hand and one of us will come over to you. \n",
    "\n",
    "### Content Knowledge Tested\n",
    "- Using Github to save and track progress on your work\n",
    "- Using Pandas to read, manipulate, and access data files\n",
    "- Using documentation and examples to effectively utilitze unfamiliar Python packages \n",
    "- Writing new classes to effectively store complex datasets"
   ]
  },
  {
   "cell_type": "markdown",
   "id": "dcc1f32a-2fcc-4031-94ff-096062983643",
   "metadata": {
    "tags": []
   },
   "source": [
    "## Part 0: Add to your Git repository to track your progress on your exam (10 points total)\n",
    "\n",
    "Before you get to far along in the exam, you're going to add it to the `cmse202-F22-turnin` repository you created in class so that you can track your progress on the exam and preserve the final version that you turn in. In order to do this you need to\n",
    "\n",
    "### &#9989; Part 0.1 (5 points):\n",
    "\n",
    "1. Navigate to your `cmse202-F22-turnin` repository and create a new directory called `midterm`.\n",
    "2. Move this notebook into that **new directory** in your repository, then **add it and commit it to your repository**.\n",
    "1. Finally, to test that everything is working, \"git push\" the file so that it ends up in your GitHub repository.\n",
    "\n",
    "**Important**: Double check you've added your Professor and your TA as collaborators to your \"turnin\" respository (you should have done this in the previous homework assignment).\n",
    "\n",
    "**Also important**: Make sure that the version of this notebook that you are working on is the same one that you just added to your repository! If you are working on a different copy of the noteobok, **none of your changes will be tracked**!\n",
    "\n",
    "The file should now show up on your GitHub account in the `cmse202-F22-turnin` repository inside the `midterm` directory you just created.  Periodically, **you'll be asked to commit your changes to the repository and push them to the remote GitHub location**. It can be good to get into a habit of committing your changes any time you make a significant modification.\n",
    "\n",
    "### Part 0.2 (2 points):\n",
    "&#9989; Before you move on, **put the command(s) that your instructor should run to clone your repository in the markdown cell below.**"
   ]
  },
  {
   "cell_type": "code",
   "execution_count": null,
   "id": "d5411504-4c33-446f-95f6-7bef07e94fdd",
   "metadata": {},
   "outputs": [],
   "source": [
    "#Write your code here"
   ]
  },
  {
   "cell_type": "markdown",
   "id": "4983c96b-98f0-415d-8a38-39c1623dbe8a",
   "metadata": {},
   "source": [
    "## Part 1: Getting Data with Curl (5 points)\n",
    "\n",
    "For this exam, you will be working with a dataset that contains **spectra.** Spectra are what you get when you separate light–like in a prism–and measure the flux (fancy word for brightness) of the different parts of the light (E.g., blue has a flux of 400, red has a flux of 600, etc.). More specifically, we measure the *wavelength* of the light (shorter wavelengths = bluer, longer wavelengths=redder). The data we’ll be working with came from a space telescope looking at different astronomical sources. \n",
    "\n",
    "For this exam, you only need to know that wavelength and flux are measured values used in astronomy, physics, chemistry, and biology. \n",
    "\n",
    "\n",
    "First, let’s get our data files. \n",
    "\n",
    "&#9989; **Download the files using `curl` and the following links. Put the commands you used to download the files in the cell below.**\n",
    "\n",
    "`https://raw.githubusercontent.com/msu-cmse-courses/cmse202-F22-data/main/Midterm/metadata.csv`\n",
    "`https://raw.githubusercontent.com/msu-cmse-courses/cmse202-F22-data/main/Midterm/spectra_data.csv`\n"
   ]
  },
  {
   "cell_type": "markdown",
   "id": "396053e0",
   "metadata": {},
   "source": [
    "#Write your code here\n",
    "curl -O https://raw.githubusercontent.com/msu-cmse-courses/cmse202-F22-data/main/Midterm/metadata.csv\n",
    "curl -O https://raw.githubusercontent.com/msu-cmse-courses/cmse202-F22-data/main/Midterm/spectra_data.csv"
   ]
  },
  {
   "cell_type": "markdown",
   "id": "81c8c313-2d23-4eff-a713-7abf289d3773",
   "metadata": {
    "tags": []
   },
   "source": [
    "## Part 2: Making the Dataframe (8 points)\n",
    "\n",
    "### 2.1 Reading the Data (4 points)\n",
    "\n",
    "&#9989; **Read in the two data files using Pandas (put your code in the cell below).** One of them has the spectrum for each source, while the other has metadata about each source."
   ]
  },
  {
   "cell_type": "code",
   "execution_count": 7,
   "id": "a3a77d21-f2ed-40b9-aa23-77ca5faefb80",
   "metadata": {},
   "outputs": [],
   "source": [
    "#Write your code here\n",
    "import pandas as pd\n",
    "\n",
    "meta_data = pd.read_csv('metadata.csv')\n",
    "spectra_data = pd.read_csv('spectra_data.csv')"
   ]
  },
  {
   "cell_type": "markdown",
   "id": "e85bc606-6750-40e6-956f-fcd5356e1af9",
   "metadata": {
    "tags": []
   },
   "source": [
    "### 2.2 Setting the Index Values (4 points)\n",
    "\n",
    "&#9989; **Modify your spectrum dataframe by setting the index to be the wavelength values (first column).**"
   ]
  },
  {
   "cell_type": "code",
   "execution_count": 10,
   "id": "526ce193-159a-48d5-a5c0-ec7431f45cda",
   "metadata": {},
   "outputs": [
    {
     "data": {
      "text/html": [
       "<div>\n",
       "<style scoped>\n",
       "    .dataframe tbody tr th:only-of-type {\n",
       "        vertical-align: middle;\n",
       "    }\n",
       "\n",
       "    .dataframe tbody tr th {\n",
       "        vertical-align: top;\n",
       "    }\n",
       "\n",
       "    .dataframe thead th {\n",
       "        text-align: right;\n",
       "    }\n",
       "</style>\n",
       "<table border=\"1\" class=\"dataframe\">\n",
       "  <thead>\n",
       "    <tr style=\"text-align: right;\">\n",
       "      <th></th>\n",
       "      <th>12043-6225</th>\n",
       "      <th>12063-6259</th>\n",
       "      <th>12073-6233</th>\n",
       "      <th>12148-6741</th>\n",
       "      <th>12216-6218</th>\n",
       "      <th>12226+0102</th>\n",
       "      <th>12230-5943</th>\n",
       "      <th>12233-5920</th>\n",
       "      <th>12247-5842</th>\n",
       "      <th>12274-7647</th>\n",
       "      <th>...</th>\n",
       "      <th>23309+2213</th>\n",
       "      <th>23320+4316</th>\n",
       "      <th>23365+5159</th>\n",
       "      <th>23416+6130</th>\n",
       "      <th>23439+5412</th>\n",
       "      <th>23491+6243</th>\n",
       "      <th>23496+6131</th>\n",
       "      <th>23528+4821</th>\n",
       "      <th>23541+7031</th>\n",
       "      <th>23564-5651</th>\n",
       "    </tr>\n",
       "    <tr>\n",
       "      <th>Wavelength</th>\n",
       "      <th></th>\n",
       "      <th></th>\n",
       "      <th></th>\n",
       "      <th></th>\n",
       "      <th></th>\n",
       "      <th></th>\n",
       "      <th></th>\n",
       "      <th></th>\n",
       "      <th></th>\n",
       "      <th></th>\n",
       "      <th></th>\n",
       "      <th></th>\n",
       "      <th></th>\n",
       "      <th></th>\n",
       "      <th></th>\n",
       "      <th></th>\n",
       "      <th></th>\n",
       "      <th></th>\n",
       "      <th></th>\n",
       "      <th></th>\n",
       "      <th></th>\n",
       "    </tr>\n",
       "  </thead>\n",
       "  <tbody>\n",
       "    <tr>\n",
       "      <th>7.8636</th>\n",
       "      <td>4119.1675</td>\n",
       "      <td>7660.9990</td>\n",
       "      <td>3196.4287</td>\n",
       "      <td>26028.451</td>\n",
       "      <td>15835.385</td>\n",
       "      <td>15979.912</td>\n",
       "      <td>13409.692</td>\n",
       "      <td>4723.8423</td>\n",
       "      <td>24852.156</td>\n",
       "      <td>7437.992</td>\n",
       "      <td>...</td>\n",
       "      <td>25954.225</td>\n",
       "      <td>13512.428</td>\n",
       "      <td>11504.0205</td>\n",
       "      <td>5428.5894</td>\n",
       "      <td>15511.477</td>\n",
       "      <td>14111.734</td>\n",
       "      <td>8702.870</td>\n",
       "      <td>15375.604</td>\n",
       "      <td>11814.460</td>\n",
       "      <td>14268.037</td>\n",
       "    </tr>\n",
       "    <tr>\n",
       "      <th>8.0485</th>\n",
       "      <td>4897.2990</td>\n",
       "      <td>7906.7840</td>\n",
       "      <td>3013.9722</td>\n",
       "      <td>23706.814</td>\n",
       "      <td>15097.697</td>\n",
       "      <td>15094.218</td>\n",
       "      <td>12985.147</td>\n",
       "      <td>5399.3550</td>\n",
       "      <td>23494.658</td>\n",
       "      <td>7775.493</td>\n",
       "      <td>...</td>\n",
       "      <td>24277.150</td>\n",
       "      <td>13566.235</td>\n",
       "      <td>10776.7720</td>\n",
       "      <td>5152.7850</td>\n",
       "      <td>15633.458</td>\n",
       "      <td>14462.127</td>\n",
       "      <td>8777.906</td>\n",
       "      <td>14542.233</td>\n",
       "      <td>12896.945</td>\n",
       "      <td>12925.045</td>\n",
       "    </tr>\n",
       "    <tr>\n",
       "      <th>8.2286</th>\n",
       "      <td>4163.9690</td>\n",
       "      <td>7821.8984</td>\n",
       "      <td>3003.1490</td>\n",
       "      <td>21255.066</td>\n",
       "      <td>14774.418</td>\n",
       "      <td>15370.212</td>\n",
       "      <td>12330.412</td>\n",
       "      <td>5080.2930</td>\n",
       "      <td>21760.830</td>\n",
       "      <td>8206.881</td>\n",
       "      <td>...</td>\n",
       "      <td>21686.775</td>\n",
       "      <td>14101.023</td>\n",
       "      <td>10377.4710</td>\n",
       "      <td>5084.3320</td>\n",
       "      <td>15354.947</td>\n",
       "      <td>15572.456</td>\n",
       "      <td>9042.665</td>\n",
       "      <td>13849.163</td>\n",
       "      <td>13033.315</td>\n",
       "      <td>12433.298</td>\n",
       "    </tr>\n",
       "    <tr>\n",
       "      <th>8.4043</th>\n",
       "      <td>5000.7207</td>\n",
       "      <td>7240.5156</td>\n",
       "      <td>3099.5684</td>\n",
       "      <td>19268.297</td>\n",
       "      <td>15353.485</td>\n",
       "      <td>15239.369</td>\n",
       "      <td>11932.745</td>\n",
       "      <td>4978.8910</td>\n",
       "      <td>20237.523</td>\n",
       "      <td>9054.722</td>\n",
       "      <td>...</td>\n",
       "      <td>20223.473</td>\n",
       "      <td>13942.729</td>\n",
       "      <td>10156.5010</td>\n",
       "      <td>5017.1060</td>\n",
       "      <td>13779.858</td>\n",
       "      <td>15107.514</td>\n",
       "      <td>9054.930</td>\n",
       "      <td>13149.557</td>\n",
       "      <td>13371.644</td>\n",
       "      <td>12211.934</td>\n",
       "    </tr>\n",
       "    <tr>\n",
       "      <th>8.5758</th>\n",
       "      <td>5769.1810</td>\n",
       "      <td>6555.7860</td>\n",
       "      <td>3130.7747</td>\n",
       "      <td>17711.970</td>\n",
       "      <td>13989.907</td>\n",
       "      <td>15328.078</td>\n",
       "      <td>11440.469</td>\n",
       "      <td>4896.7485</td>\n",
       "      <td>18943.152</td>\n",
       "      <td>9833.839</td>\n",
       "      <td>...</td>\n",
       "      <td>18529.771</td>\n",
       "      <td>13366.011</td>\n",
       "      <td>9721.1220</td>\n",
       "      <td>5255.4404</td>\n",
       "      <td>13604.027</td>\n",
       "      <td>14094.124</td>\n",
       "      <td>9358.403</td>\n",
       "      <td>12263.955</td>\n",
       "      <td>12632.285</td>\n",
       "      <td>12230.377</td>\n",
       "    </tr>\n",
       "  </tbody>\n",
       "</table>\n",
       "<p>5 rows × 531 columns</p>\n",
       "</div>"
      ],
      "text/plain": [
       "            12043-6225  12063-6259  12073-6233  12148-6741  12216-6218  \\\n",
       "Wavelength                                                               \n",
       "7.8636       4119.1675   7660.9990   3196.4287   26028.451   15835.385   \n",
       "8.0485       4897.2990   7906.7840   3013.9722   23706.814   15097.697   \n",
       "8.2286       4163.9690   7821.8984   3003.1490   21255.066   14774.418   \n",
       "8.4043       5000.7207   7240.5156   3099.5684   19268.297   15353.485   \n",
       "8.5758       5769.1810   6555.7860   3130.7747   17711.970   13989.907   \n",
       "\n",
       "            12226+0102  12230-5943  12233-5920  12247-5842  12274-7647  ...  \\\n",
       "Wavelength                                                              ...   \n",
       "7.8636       15979.912   13409.692   4723.8423   24852.156    7437.992  ...   \n",
       "8.0485       15094.218   12985.147   5399.3550   23494.658    7775.493  ...   \n",
       "8.2286       15370.212   12330.412   5080.2930   21760.830    8206.881  ...   \n",
       "8.4043       15239.369   11932.745   4978.8910   20237.523    9054.722  ...   \n",
       "8.5758       15328.078   11440.469   4896.7485   18943.152    9833.839  ...   \n",
       "\n",
       "            23309+2213  23320+4316  23365+5159  23416+6130  23439+5412  \\\n",
       "Wavelength                                                               \n",
       "7.8636       25954.225   13512.428  11504.0205   5428.5894   15511.477   \n",
       "8.0485       24277.150   13566.235  10776.7720   5152.7850   15633.458   \n",
       "8.2286       21686.775   14101.023  10377.4710   5084.3320   15354.947   \n",
       "8.4043       20223.473   13942.729  10156.5010   5017.1060   13779.858   \n",
       "8.5758       18529.771   13366.011   9721.1220   5255.4404   13604.027   \n",
       "\n",
       "            23491+6243  23496+6131  23528+4821  23541+7031  23564-5651  \n",
       "Wavelength                                                              \n",
       "7.8636       14111.734    8702.870   15375.604   11814.460   14268.037  \n",
       "8.0485       14462.127    8777.906   14542.233   12896.945   12925.045  \n",
       "8.2286       15572.456    9042.665   13849.163   13033.315   12433.298  \n",
       "8.4043       15107.514    9054.930   13149.557   13371.644   12211.934  \n",
       "8.5758       14094.124    9358.403   12263.955   12632.285   12230.377  \n",
       "\n",
       "[5 rows x 531 columns]"
      ]
     },
     "execution_count": 10,
     "metadata": {},
     "output_type": "execute_result"
    }
   ],
   "source": [
    "#Write your code here\n",
    "spectra_data = pd.read_csv('spectra_data.csv', index_col = 0)\n",
    "spectra_data.head()"
   ]
  },
  {
   "cell_type": "markdown",
   "id": "cb928c2f-720c-4185-ab3e-103ad91dab9d",
   "metadata": {
    "tags": []
   },
   "source": [
    "## Part 3: Using a \"New\" Package (15 points)\n",
    "For this problem, we want you to use a new package that you aren’t as used to. Specifically, you’ll be using the [Seaborn plotting package](https://seaborn.pydata.org/). \n",
    "\n",
    "&#9989; RA and DEC are two measurements that are equivalent to latitude and longitude on earth (I.e., they give the position on the sky). **Use the Seaborn `relplot` and your metadata dataframe to make a scatter plot of the following:** \n",
    "\n",
    "- RA on the x-axis \n",
    "- DEC on the y-axis \n",
    "- The size of your data points on the plot should correspond to the scale factor (a measure of total brightness of the source.) \n",
    "\n",
    "**Hint:** You might want to take a look at the Seaborn example gallery. "
   ]
  },
  {
   "cell_type": "code",
   "execution_count": null,
   "id": "9d5ee909-a4f0-4678-89be-07e412a305b9",
   "metadata": {},
   "outputs": [],
   "source": [
    "#Write your code here"
   ]
  },
  {
   "cell_type": "markdown",
   "id": "968006d1-c4d2-4d09-ba0f-72e9fba50de7",
   "metadata": {
    "jp-MarkdownHeadingCollapsed": true,
    "tags": []
   },
   "source": [
    "---\n",
    "### &#128721; STOP (1 point)\n",
    "**Pause to commit your changes to your Git repository!**\n",
    "\n",
    "Take a moment to save your notebook, commit and push the changes to your Git repository.\n",
    "\n",
    "---"
   ]
  },
  {
   "cell_type": "markdown",
   "id": "a8efb523-e4b5-44bc-9687-1568577fc1f2",
   "metadata": {
    "tags": []
   },
   "source": [
    "## Part 4: Accessing Specific Data Values with Pandas (10 points)\n",
    "\n",
    "For this part of the exam, we’ll walk through how to use Pandas to access specific pieces of information in our dataframes.\n",
    "\n",
    "### 4.1 Getting the Metadata (5 points)\n",
    "\n",
    "&#9989; **Use Pandas to access the value in the the 3rd row and 2nd column in the metadata dataframe (I.e., the RA for 12073-6233).** *Hint: What is the easiest way to access data using index values?*"
   ]
  },
  {
   "cell_type": "code",
   "execution_count": null,
   "id": "d5baf706-738d-4b61-97a8-f6d827b5bfd3",
   "metadata": {},
   "outputs": [],
   "source": [
    "#Write your code here"
   ]
  },
  {
   "cell_type": "markdown",
   "id": "8f9d3b23-a3fb-459b-97d4-facdb37cd7f7",
   "metadata": {},
   "source": [
    "### 4.2 Getting the Spectra Data (5 points)\n",
    "\n",
    "&#9989; **Use Pandas to access the entire third column of data (I.e., all flux values for 12073-6233).** Try to use the same tools as the previous problem."
   ]
  },
  {
   "cell_type": "code",
   "execution_count": null,
   "id": "c3da70e4-3464-4453-a8b3-2780a32a2336",
   "metadata": {},
   "outputs": [],
   "source": [
    "#Write your code here"
   ]
  },
  {
   "cell_type": "markdown",
   "id": "2c5a612c-c356-4ab1-a62c-fa8daafb80bd",
   "metadata": {},
   "source": [
    "## Part 5: Designing a Class (15 points)\n",
    "\n",
    "The issue with this dataset is that it comes in two parts: the spectra and the metadata for each source. To make life easier, we’re going to combine both the data and the metadata by designing a new class, the `spectrum` class.\n",
    "\n",
    "&#9989; **Write a new class for this spectrum data.** Your class should have the following: \n",
    "- Attributes for each piece of information in the metadata file (I.e., ID, RA, DEC, and Scale Factor)\n",
    "- Wavelengths \n",
    "- Flux \n",
    "- `get`-methods for both wavelength and flux (for the sake of time, you don’t need to write any `set`-methods or `get`-methods for any of the other attributes)."
   ]
  },
  {
   "cell_type": "code",
   "execution_count": null,
   "id": "dfc6d1d7-90f0-4de4-9adf-a81ac137c0b3",
   "metadata": {},
   "outputs": [],
   "source": [
    "#Write class here"
   ]
  },
  {
   "cell_type": "markdown",
   "id": "d6fbf4fe-e3fb-46c6-a192-6d235ee9348f",
   "metadata": {
    "jp-MarkdownHeadingCollapsed": true,
    "tags": []
   },
   "source": [
    "---\n",
    "### &#128721; STOP (1 point)\n",
    "**Pause to commit your changes to your Git repository!**\n",
    "\n",
    "Take a moment to save your notebook, commit  and push the changes to your Git repository.\n",
    "\n",
    "---"
   ]
  },
  {
   "cell_type": "markdown",
   "id": "5c647abf-1b0a-4485-9765-5b448d3b776e",
   "metadata": {},
   "source": [
    "## Part 6: Building Objects (15 points)\n",
    "\n",
    "&#9989; **Construct `spectra` objects for all of the spectral measurements. Append all of the objects to a new list called `spectrum_objects`.** \n",
    "\n",
    "**NOTE:** The wavelength values will be the same for all of our spectral measurements. (Also, remember that we set the dataframe `index` to be the wavelength values.)"
   ]
  },
  {
   "cell_type": "code",
   "execution_count": null,
   "id": "aee8c287-b4b1-4628-a36a-c484212e69eb",
   "metadata": {},
   "outputs": [],
   "source": [
    "#Write your code here"
   ]
  },
  {
   "cell_type": "markdown",
   "id": "84654ba5-253d-4917-8a47-e01d510d9342",
   "metadata": {},
   "source": [
    "## Part 7: Scaling Flux Values (12 points)\n",
    "\n",
    "*Note: You can complete 7.1 and 7.2 even if you did not complete Part 6*\n",
    "\n",
    "### Part 7.1: Fixing the Problem (4 points)\n",
    "&#9989; **All of the flux values need to be scaled (multiplied) by the `scale_factor` value. Write a new method in your `spectrum` class that does this.** \n",
    "\n"
   ]
  },
  {
   "cell_type": "code",
   "execution_count": null,
   "id": "1e4373db-4af1-4bba-8144-087e2a84c9a2",
   "metadata": {},
   "outputs": [],
   "source": [
    "#Write your code here"
   ]
  },
  {
   "cell_type": "markdown",
   "id": "fffc47f1-635d-4aa2-973e-94e1f4bfbdba",
   "metadata": {},
   "source": [
    "### Part 7.2: Applying the Fix (4 points)\n",
    "&#9989; **Call your method within the constructor method (I.e., the `__init__` method), so that it automatically scales the flux values as it creates a new `spectrum` object.**"
   ]
  },
  {
   "cell_type": "code",
   "execution_count": 39,
   "id": "7995705b-e252-47cd-9281-ce8e85b8c8a4",
   "metadata": {},
   "outputs": [],
   "source": [
    "#Write your code here"
   ]
  },
  {
   "cell_type": "markdown",
   "id": "aa7be01f-6a2d-428b-be51-8789e624ba12",
   "metadata": {},
   "source": [
    "### Part 7.3: Rebuilding (4 points)\n",
    "&#9989; **Rerun your code from Part 6 to rebuild your objects with properly scaled flux values.**"
   ]
  },
  {
   "cell_type": "code",
   "execution_count": null,
   "id": "50af8d35-8ce5-4df8-b84a-2fad83c3a08e",
   "metadata": {},
   "outputs": [],
   "source": [
    "#Write your code here"
   ]
  },
  {
   "cell_type": "markdown",
   "id": "a19509b9-fafb-47b0-bcb3-01b390cb17c4",
   "metadata": {},
   "source": [
    "## Part 8: Make a Damn Plot (10 points)\n",
    "\n",
    "&#9989; **Select one of your spectrum objects and use it to make a plot. Your plot should have Wavelength on the x-axis and flux on the y-axis.**\n",
    "\n",
    "*Note: You can complete this problem even if you did not complete Part 6 or 7. As long as you have A spectrum object.*"
   ]
  },
  {
   "cell_type": "code",
   "execution_count": null,
   "id": "e6dcd0a2-874f-4ffe-8997-4117b89b9ab9",
   "metadata": {},
   "outputs": [],
   "source": [
    "#Write your code here"
   ]
  },
  {
   "cell_type": "markdown",
   "id": "24487f41-d69d-4da0-9964-795c7a7d3e7b",
   "metadata": {
    "tags": []
   },
   "source": [
    "---\n",
    "### &#128721; STOP (1 point)\n",
    "**Pause to commit your changes to your Git repository!**\n",
    "\n",
    "Take a moment to save your notebook, commit  and push the changes to your Git repository.\n",
    "\n",
    "---"
   ]
  },
  {
   "cell_type": "markdown",
   "id": "0cd14847-5fcd-40e6-8799-c2e91ea181f2",
   "metadata": {
    "jp-MarkdownHeadingCollapsed": true,
    "tags": []
   },
   "source": [
    "## You're done! Congrats on finishing your CMSE 202 Midterm!\n",
    "\n",
    "Make sure all of your changes to your repository are committed and pushed to GitHub. Also upload a copy of this notebook to the dropbox on D2L in case something went wrong with your repository or if you couldn't get the repository to work."
   ]
  }
 ],
 "metadata": {
  "kernelspec": {
   "display_name": "Python 3",
   "language": "python",
   "name": "python3"
  },
  "language_info": {
   "codemirror_mode": {
    "name": "ipython",
    "version": 3
   },
   "file_extension": ".py",
   "mimetype": "text/x-python",
   "name": "python",
   "nbconvert_exporter": "python",
   "pygments_lexer": "ipython3",
   "version": "3.8.8"
  }
 },
 "nbformat": 4,
 "nbformat_minor": 5
}
