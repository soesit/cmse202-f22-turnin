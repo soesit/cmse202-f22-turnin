{
 "cells": [
  {
   "cell_type": "markdown",
   "metadata": {},
   "source": [
    "# Homework Assignment 1 (Individual)\n",
    "## Git practice, debugging practice, and new Python packages"
   ]
  },
  {
   "cell_type": "markdown",
   "metadata": {},
   "source": [
    "### <p style=\"text-align: right;\"> &#9989; Sit Soe.</p>\n",
    "### <p style=\"text-align: right;\"> &#9989; soesit.</p>"
   ]
  },
  {
   "cell_type": "markdown",
   "metadata": {},
   "source": [
    "<img src=\"https://www.plasmapy.org/images/with-text-light-small.png\" width=300px align=\"right\" style=\"margin-left: 20px\" alt=\"Image credit: https://plasmapy.org/\">\n",
    "\n",
    "### Goals for this homework assignment\n",
    "By the end of this assignment, you should be able to:\n",
    "* Use Git to create a repository, track changes to the files within the repository, and push those changes to a remote repository.\n",
    "* Debug some basic Python code.\n",
    "* Read documentation and example code to use a new Python package\n",
    "\n",
    "Work through the following assignment, making sure to follow all of the directions and answer all of the questions.\n",
    "\n",
    "There are **57 points** possible on this assignment. Point values for each part are included in the section headers and question prompts.\n",
    "\n",
    "**This assignment is due roughly two weeks from now at 11:59 pm on Friday, September 23.** It should be uploaded into the \"Homework Assignments\" submission folder for Homework #1 on D2L.  Submission instructions can be found at the end of the notebook. **You must also fill out a survey regarding this assignment.** The link to this survey can also be found at the end of the notebook."
   ]
  },
  {
   "cell_type": "markdown",
   "metadata": {},
   "source": [
    "\n",
    "<a id=\"toc\"></a>\n",
    "\n",
    "## Table of contents\n",
    "\n",
    "0. [Part 0: Office Hours](#ofhrs) (10 points)\n",
    "\n",
    "1. [Part 1: Git and CLI](#gits) (14 points)\n",
    "\n",
    "3. [Part 2: Debugging](#debugging) (13 points)\n",
    "\n",
    "4. [Part 3: A new Python package](#plasmas) (13 points)\n",
    "\n",
    "5. [Part 4: Finishing](#conclusion) (7 points)"
   ]
  },
  {
   "cell_type": "code",
   "execution_count": 1,
   "metadata": {},
   "outputs": [
    {
     "name": "stdout",
     "output_type": "stream",
     "text": [
      "Max number of points = 57\n"
     ]
    }
   ],
   "source": [
    "part0, part1, part2, part3, part4 = [10, 14, 13, 13, 7]\n",
    "\n",
    "print(f\"Max number of points = {part0 + part1 + part2 + part3 + part4}\")"
   ]
  },
  {
   "cell_type": "markdown",
   "metadata": {},
   "source": [
    "---\n",
    "<a id=\"ofhrs\"></a>\n",
    "[Back to ToC](#toc)\n",
    "\n",
    "\n",
    "# Part 0: Office Hours and Academic Integrity (10 points)\n",
    "\n",
    "## Academic integrity statement (2 Points)\n",
    "\n",
    "In the markdown cell below, paste your personal academic integrity statement. By including this statement, you are confirming that you are submitting this as your own work and not that of someone else.\n"
   ]
  },
  {
   "cell_type": "markdown",
   "metadata": {},
   "source": [
    "<font size=6 color=\"#009600\">&#9998;</font> I will practice honesty in my work, foster honesty in my peers, and take pride in knowing that honor is worth more than grades. I will carry these values beyond my time as a student at Michigan State University, continuing the endeavor to build personal integrity in all that I do.\""
   ]
  },
  {
   "cell_type": "markdown",
   "metadata": {},
   "source": [
    "## Going to Office Hours (8 Points)\n",
    "\n",
    "### Why are we doing this?\n",
    "We want to make sure that everyone knows how to access the resources\n",
    "available to you. One of the best resources you have at your disposal is office hours.\n",
    "\n",
    "### What will you do?\n",
    "(At minimum) Go to one office hour session ​(it doesn’t matter which one you go to). Come with one question that you would like to talk about. It can be big or small. Ask your question. All of the instructors for CMSE 202 (section leads, TAs, and LAs) will be adding to a running list of folks that we see during office hours; as long as your name appears on the list, you’ll get credit for this part of Homework 1.\n",
    "\n",
    "**NOTE:** The day when the homework is due (**Friday, September 23**) will be the busiest time for folks to go to office hours. You are **STRONGLY** encouraged to go to office hours before Friday to get credit for this part of this assignment. (You should still feel free to go to office hours on Friday for help, though!)\n",
    "\n",
    "You can find the office hours calendar on the [course website](https://cmse.msu.edu/cmse202)."
   ]
  },
  {
   "cell_type": "markdown",
   "metadata": {},
   "source": [
    "**&#9989; **Question 0.1 (8 points)****\n",
    "\n",
    "Type below the question you asked."
   ]
  },
  {
   "cell_type": "markdown",
   "metadata": {},
   "source": [
    "<font size=6 color=\"#009600\">&#9998;</font> What is the difference in downloading different packages in our JupyterHub terminal vs anaconda prompt or my local command prompt."
   ]
  },
  {
   "cell_type": "markdown",
   "metadata": {},
   "source": [
    "---\n",
    "<a id=\"gits\"></a>\n",
    "[Back to ToC](#toc)\n",
    "\n",
    "# Part 1: CLI and Git (14 points)\n",
    "\n",
    "## Setting up a git repository to track your progress on your assignments \n",
    "\n",
    "`git` is a very important professional tool and we want you to get plenty of practice using it. The following set of questions prompt you to create a (private) Git repo for storing, updating, and turning in your homework assignments. You will **share this repo with your course lead instructor and TA** so that they can pull your completed assignments for grading."
   ]
  },
  {
   "cell_type": "markdown",
   "metadata": {},
   "source": [
    "**&#9989; **Question 1.1 (2 points)****\n",
    "1. On [GitHub](https://github.com) make sure you are logged into your account and then create a new <font color=\"red\">**_private_**</font> GitHub repository called `cmse202-f22-turnin`.\n",
    "2. Once you've initialized the repository on GitHub, **clone a copy of it onto JupyterHub or your computer**."
   ]
  },
  {
   "cell_type": "markdown",
   "metadata": {},
   "source": [
    "``` bash\n",
    "# Put the command you used to create the directory here\n",
    "```\n",
    "git clone https://github.com/soesit/cmse202-f22-turnin.git"
   ]
  },
  {
   "cell_type": "markdown",
   "metadata": {},
   "source": [
    "**&#9989; **Question 1.2 (1 point)**** Open a terminal and move inside the repository folder\n",
    "\n",
    "What command did you use to enter into the folder?"
   ]
  },
  {
   "cell_type": "markdown",
   "metadata": {},
   "source": [
    "``` bash\n",
    "# Put the command to move into a new directory here.\n",
    "```\n",
    "1. cd HW-01_file .. \n",
    "2. cd repositories/cmse202-f22-turnin/hw-01"
   ]
  },
  {
   "cell_type": "markdown",
   "metadata": {},
   "source": [
    "**&#9989; **Question 1.3 (1 point)****  Once inside the `cmse202-f22-turnin` repository, create a new folder called `hw-01`.\n",
    "\n",
    "What is the command to create the new folder ?"
   ]
  },
  {
   "cell_type": "markdown",
   "metadata": {},
   "source": [
    "``` bash\n",
    "# Put the command to create the directory here\n",
    "```\n",
    "mkdir hw-01"
   ]
  },
  {
   "cell_type": "markdown",
   "metadata": {},
   "source": [
    "**&#9989; **Question 1.4 (1 point)**** Move this notebook into that **new directory** in your repository then check the status of the repository\n",
    "\n",
    "**Important**: you'll want to make sure you **save and close** the notebook before you do this step and then re-open it once you've added it to your repository.\n"
   ]
  },
  {
   "cell_type": "markdown",
   "metadata": {},
   "source": [
    "``` bash\n",
    "# Put the command you used to check the status of your repository here.\n",
    "```\n",
    "git status"
   ]
  },
  {
   "cell_type": "markdown",
   "metadata": {},
   "source": [
    "**&#9989; **Question 1.5 (1 point)**** Copy and paste below the output of the command.\n",
    "\n",
    "``` bash\n",
    "# Paste it here\n",
    "```\n",
    "* On branch main\n",
    "* Your branch is ahead of 'origin/main' by 1 commit.\n",
    "  (use \"git push\" to publish your local commits)\n",
    "* nothing to commit, working tree clean\n"
   ]
  },
  {
   "cell_type": "markdown",
   "metadata": {},
   "source": [
    "**&#9989; **Question 1.6 (1 point)**** What is the name of the branch you are in ? \n",
    "\n",
    "``` bash\n",
    "# Put your answer here\n",
    "```\n",
    "origin/main"
   ]
  },
  {
   "cell_type": "markdown",
   "metadata": {},
   "source": [
    "&#9989; **Question 1.7 (3 points):** It is good practice to create a new branch for each modification to the code. Create a new branch called `homework_01` and switch to that branch to track the rest of the changes in this notebook. \n",
    "\n",
    "``` bash\n",
    "# Put the command you used to create and switch to the new branch here.\n",
    "```\n",
    "git branch homework_01\n"
   ]
  },
  {
   "cell_type": "markdown",
   "metadata": {},
   "source": [
    "&#9989; **Question 1.8 (3 points):**\n",
    "Add your name and GitHub username to the top of the notebook, then add and commit **ONLY** the notebook.\n",
    "\n",
    "``` bash\n",
    "# Put the command(s) to add and commit here \n",
    "```\n",
    " * git add HW_file\n",
    " * git push\n",
    " * git commit -m \"Message\"\n",
    "\n",
    "What is the commit message you used ?\n",
    "\n",
    "``` bash\n",
    "# Answer the question here\n",
    "```\n",
    "* \"commiting notebook only\""
   ]
  },
  {
   "cell_type": "markdown",
   "metadata": {},
   "source": [
    "&#9989; **Question 1.9 (1 point):** Before moving on. Check that the notebook you are working on is the correct one. Run the following cell. **Are you in the new folder you just created?** If not close this notebook and open the one in the `final` folder\n"
   ]
  },
  {
   "cell_type": "code",
   "execution_count": 1,
   "metadata": {
    "ExecuteTime": {
     "end_time": "2022-09-10T21:45:07.159611Z",
     "start_time": "2022-09-10T21:45:06.977669Z"
    }
   },
   "outputs": [
    {
     "name": "stdout",
     "output_type": "stream",
     "text": [
      "/home/soesit/CMSE202/repositories/cmse202-f22-turnin/hw-01\r\n"
     ]
    }
   ],
   "source": [
    "!pwd\n"
   ]
  },
  {
   "cell_type": "markdown",
   "metadata": {},
   "source": [
    "**Important**: Make sure you've added your Professor and your TA as collaborators to your new \"turnin\" respository with \"Read\" access so that they can see your assignment. **You should check the Slack channel _for your section of the course_ to get this information.**\n",
    "\n",
    "**Double-check the following**: Make sure that the version of this notebook that you are working on is the same one that you just added to your repository! If you are working on a different copy of the notebook, **none of your changes will be tracked**.\n",
    "\n",
    "If everything went as intended, the file should now show up on your GitHub account in the \"`cmse202-f22-turnin`\" repository inside the `hw-01` directory that you just created.  Periodically, **you'll be asked to commit your changes to the repository and push them to the remote GitHub location**. Of course, you can always commit your changes more often than that, if you wish.  It can be good to get into a habit of committing your changes any time you make a significant modification, or when you stop working on the project for a bit.\n"
   ]
  },
  {
   "cell_type": "markdown",
   "metadata": {},
   "source": [
    "---\n",
    "<a id=\"debugging\"></a>\n",
    "[Back to ToC](#toc)\n",
    "\n",
    "# Part 2: Debugging (13 points)\n",
    "\n",
    "## Reading Python and understanding errors and error messages \n",
    "\n",
    "In the following you will practice reading and debugging code. This is usually the most frustrating and time consuming part of a computational project, hence, you should start familiarizing yourself with the error messages. \n",
    "\n",
    "Review the following code. Read the comments to understand what the code is supposed to do. Then run the code and see what it outputs and/or the error message. Finally, **fix the code**. When you fix the code **add a comment to explain what was wrong with the original code**.\n",
    "\n",
    "**NOTE:** not every block of code will result in an error message, but there is something wrong with each block of code below."
   ]
  },
  {
   "cell_type": "markdown",
   "metadata": {},
   "source": [
    "### Understanding the error message\n",
    "\n",
    "\n",
    "&#9989; **Questions 2.1 (5 points)**: Follow this [link](https://docs.python.org/3/tutorial/errors.html) and answer the questions below. (No need to read it all, you can stop after section 8.2)\n",
    "\n",
    "1. Python identifies two kinds of errors, what are they?\n",
    "2. How can you fix the error shown in the first example block, i.e. the one in section 8.1?\n",
    "3. What type of errors are presented in the second example block, i.e. the one in section 8.2 ?\n",
    "4. Where in the error message can you find the location of your error ?\n",
    "5. Does the error message gives hints on how to fix the error? If Yes, where can I find this information?\n"
   ]
  },
  {
   "cell_type": "markdown",
   "metadata": {},
   "source": [
    "``` bash\n",
    "# Put your answers here\n",
    "\n",
    "1. Syntax errors and exceptions. Syntax or parsing errors are basically typos. Exceptions errors is python stopping the execution of a code to bring up an error.\n",
    "\n",
    "2. Add a colon after the 'while True' statement\n",
    "\n",
    "3. \"ZeroDivisionError\", \"NameError\", \"TypeError\" \n",
    "\n",
    "4. It is usually pointing it out with an arrow or names the line where the error occurs. \n",
    "\n",
    "5. Yes, it will tell you what is happening. Whether it is a syntax or exception error, python will further specify the error. You can google the error type.\n",
    "```"
   ]
  },
  {
   "cell_type": "markdown",
   "metadata": {},
   "source": [
    "&#9989; **Do This**: The code in the following cell is supposed to look for all the prime numbers up to the variable `max_number` (set to 12) and store them into a list.\n",
    "\n",
    "Run the following code and answer the questions"
   ]
  },
  {
   "cell_type": "code",
   "execution_count": 2,
   "metadata": {
    "ExecuteTime": {
     "end_time": "2022-09-08T01:18:06.780977Z",
     "start_time": "2022-09-08T01:18:06.777113Z"
    },
    "scrolled": true
   },
   "outputs": [
    {
     "ename": "IndentationError",
     "evalue": "expected an indented block (<ipython-input-2-103cc0c42ef5>, line 14)",
     "output_type": "error",
     "traceback": [
      "\u001b[0;36m  File \u001b[0;32m\"<ipython-input-2-103cc0c42ef5>\"\u001b[0;36m, line \u001b[0;32m14\u001b[0m\n\u001b[0;31m    if is_prime(num):\u001b[0m\n\u001b[0m    ^\u001b[0m\n\u001b[0;31mIndentationError\u001b[0m\u001b[0;31m:\u001b[0m expected an indented block\n"
     ]
    }
   ],
   "source": [
    "import math as mt\n",
    "\n",
    "def is_prime(n):\n",
    "    upper_lim = int(mt.sqrt(n)) + 1\n",
    "    for i in range(2,upper_lim):\n",
    "        if n%i == 0:\n",
    "            return False\n",
    "    return True\n",
    "\n",
    "max_number = 12\n",
    "prime_list = [1]\n",
    "\n",
    "for num in range(3,max_number,2):\n",
    "if is_prime(num): \n",
    "        prime_list.append(num)\n",
    "    \n",
    "            \n",
    "print(prime_list)"
   ]
  },
  {
   "cell_type": "markdown",
   "metadata": {},
   "source": [
    "**Questions 2.2 (3 points)**\n",
    "\n",
    "1. What line is producing the error?\n",
    "* line 14\n",
    "\n",
    "2. What is the type of error?\n",
    "* 'IndentationError\"\n",
    "\n",
    "3. Fix the error and rerun the code."
   ]
  },
  {
   "cell_type": "code",
   "execution_count": 6,
   "metadata": {
    "ExecuteTime": {
     "end_time": "2022-09-08T01:17:49.314732Z",
     "start_time": "2022-09-08T01:17:49.310634Z"
    }
   },
   "outputs": [
    {
     "name": "stdout",
     "output_type": "stream",
     "text": [
      "[1, 3, 5, 7, 11]\n"
     ]
    }
   ],
   "source": [
    "# FIX THE ERROR HERE AND RUN THIS CELL \n",
    "import math as mt\n",
    "\n",
    "def is_prime(n):\n",
    "    upper_lim = int(mt.sqrt(n)) + 1\n",
    "    for i in range(2,upper_lim):\n",
    "        if n%i == 0:\n",
    "            return False\n",
    "    return True\n",
    "\n",
    "max_number = 12\n",
    "prime_list = [1]\n",
    "\n",
    "for num in range(3,max_number,2):\n",
    "    if is_prime(num): \n",
    "        prime_list.append(num)\n",
    "    \n",
    "            \n",
    "print(prime_list)\n"
   ]
  },
  {
   "cell_type": "markdown",
   "metadata": {},
   "source": [
    "&#9989; **Do This**: The following cell is supposed to print the second to last element of the list, but it is full of errors. Run the next line without editing it and answer the questions"
   ]
  },
  {
   "cell_type": "code",
   "execution_count": 14,
   "metadata": {
    "ExecuteTime": {
     "end_time": "2022-09-10T21:50:49.628259Z",
     "start_time": "2022-09-10T21:50:49.619730Z"
    },
    "scrolled": true
   },
   "outputs": [
    {
     "ename": "TypeError",
     "evalue": "'list' object is not callable",
     "output_type": "error",
     "traceback": [
      "\u001b[0;31m---------------------------------------------------------------------------\u001b[0m",
      "\u001b[0;31mTypeError\u001b[0m                                 Traceback (most recent call last)",
      "\u001b[0;32m<ipython-input-14-8ff4d9571f1c>\u001b[0m in \u001b[0;36m<module>\u001b[0;34m\u001b[0m\n\u001b[0;32m----> 1\u001b[0;31m \u001b[0mprime_list\u001b[0m\u001b[0;34m(\u001b[0m\u001b[0;36m20\u001b[0m\u001b[0;34m)\u001b[0m\u001b[0;34m\u001b[0m\u001b[0;34m\u001b[0m\u001b[0m\n\u001b[0m",
      "\u001b[0;31mTypeError\u001b[0m: 'list' object is not callable"
     ]
    }
   ],
   "source": [
    "prime_list(20)"
   ]
  },
  {
   "cell_type": "markdown",
   "metadata": {},
   "source": [
    "**Questions 2.3 (3 points)**\n",
    "\n",
    "1. Can you identify all the mistakes in the above line? What error is produced if you ran the cell without editing it?\n",
    "* prime_list is a list, it cannot be modified. It produces the error line `'list' object is not callable`\n",
    "\n",
    "2. What does it mean that \"list\" is not callable? Is the function `is_prime` callable ?\n",
    "* To be callable is to be able to use a function to perform an action. a list is not callable because it only stores information. is_prime is callable\n",
    "\n",
    "3. How can you fix the errors?\n",
    "* use the actual function `is_prime()`"
   ]
  },
  {
   "cell_type": "markdown",
   "metadata": {},
   "source": [
    "## &#128721; STOP\n",
    "**Questions 2.4 (2 points): Pause to add and commit your changes to your Git repository!**\n",
    "\n",
    "Take a moment to save your notebook, commit the changes to your Git repository using the commit message **\"Committing Part 2\"**, no need to push the changes to GitHub.\n",
    "\n"
   ]
  },
  {
   "cell_type": "markdown",
   "metadata": {},
   "source": [
    "--- \n",
    "<a id=\"plasmas\"></a>\n",
    "[Back to ToC](#toc)\n",
    "\n",
    "# Part 3: Working with a less familiar Python package (13 points)\n",
    "\n",
    "Since we've been practicing downloading data from the internet and learning to use new Python packages, you're going to practice doing exactly that in this assignment! This will require running command-line commands from inside your notebook, reading documentation, and looking at code examples you're not familiar with. These are all authentic parts of being an independent computational professional. \n",
    "\n",
    "In this part of the exam you will need to review a bit of documentation from either a Python package that you've explored a bit this semester or a new one."
   ]
  },
  {
   "cell_type": "markdown",
   "metadata": {},
   "source": [
    "Let's say you like plasma physics and decide to write a python library for it, but you find out that someone has already started working on a library for plasmas and they called it `plasmapy`. Here is the [documentation.](https://docs.plasmapy.org/en/stable/index.html)"
   ]
  },
  {
   "cell_type": "markdown",
   "metadata": {},
   "source": [
    "## Part 3.1: Installation\n",
    "\n",
    "&#9989; **Question 3.1.1 (1 point)**: To start, install `plasmapy` using `pip`. **IMPORTANT:** DO NOT USE TERMINAL. You must run the command in the next cell and then restart the kernel "
   ]
  },
  {
   "cell_type": "code",
   "execution_count": 2,
   "metadata": {},
   "outputs": [
    {
     "name": "stdout",
     "output_type": "stream",
     "text": [
      "/home/soesit/CMSE202/repositories/cmse202-f22-turnin/hw-01\r\n"
     ]
    }
   ],
   "source": [
    "!pwd\n"
   ]
  },
  {
   "cell_type": "code",
   "execution_count": 1,
   "metadata": {
    "ExecuteTime": {
     "end_time": "2022-09-08T16:09:10.548188Z",
     "start_time": "2022-09-08T16:09:10.541353Z"
    }
   },
   "outputs": [
    {
     "name": "stdout",
     "output_type": "stream",
     "text": [
      "Defaulting to user installation because normal site-packages is not writeable\n",
      "Requirement already satisfied: plasmapy in /home/soesit/.local/lib/python3.8/site-packages (0.8.1)\n",
      "Requirement already satisfied: packaging in /opt/anaconda3/lib/python3.8/site-packages (from plasmapy) (20.9)\n",
      "Requirement already satisfied: matplotlib>=3.3.0 in /opt/anaconda3/lib/python3.8/site-packages (from plasmapy) (3.3.4)\n",
      "Requirement already satisfied: mpmath>=1.2.1 in /opt/anaconda3/lib/python3.8/site-packages (from plasmapy) (1.2.1)\n",
      "Requirement already satisfied: h5py>=3.0.0 in /home/soesit/.local/lib/python3.8/site-packages (from plasmapy) (3.7.0)\n",
      "Requirement already satisfied: tqdm>=4.41.0 in /opt/anaconda3/lib/python3.8/site-packages (from plasmapy) (4.59.0)\n",
      "Requirement already satisfied: astropy>=4.3.1 in /home/soesit/.local/lib/python3.8/site-packages (from plasmapy) (5.1)\n",
      "Requirement already satisfied: numba in /opt/anaconda3/lib/python3.8/site-packages (from plasmapy) (0.53.1)\n",
      "Requirement already satisfied: numpy>=1.19.0 in /opt/anaconda3/lib/python3.8/site-packages (from plasmapy) (1.20.1)\n",
      "Requirement already satisfied: xarray>=0.15.0 in /home/soesit/.local/lib/python3.8/site-packages (from plasmapy) (2022.6.0)\n",
      "Requirement already satisfied: ipywidgets>=7.6.5 in /home/soesit/.local/lib/python3.8/site-packages (from plasmapy) (8.0.2)\n",
      "Requirement already satisfied: lmfit>=1.0.0 in /home/soesit/.local/lib/python3.8/site-packages (from plasmapy) (1.0.3)\n",
      "Requirement already satisfied: pandas>=1.0.0 in /opt/anaconda3/lib/python3.8/site-packages (from plasmapy) (1.2.4)\n",
      "Requirement already satisfied: voila>=0.2.15 in /home/soesit/.local/lib/python3.8/site-packages (from plasmapy) (0.3.6)\n",
      "Requirement already satisfied: scipy>=1.5.0 in /opt/anaconda3/lib/python3.8/site-packages (from plasmapy) (1.6.2)\n",
      "Requirement already satisfied: cached-property>=1.5.2 in /home/soesit/.local/lib/python3.8/site-packages (from plasmapy) (1.5.2)\n",
      "Requirement already satisfied: pyerfa>=2.0 in /home/soesit/.local/lib/python3.8/site-packages (from astropy>=4.3.1->plasmapy) (2.0.0.1)\n",
      "Requirement already satisfied: PyYAML>=3.13 in /opt/anaconda3/lib/python3.8/site-packages (from astropy>=4.3.1->plasmapy) (5.4.1)\n",
      "Requirement already satisfied: ipython>=6.1.0 in /opt/anaconda3/lib/python3.8/site-packages (from ipywidgets>=7.6.5->plasmapy) (7.22.0)\n",
      "Requirement already satisfied: jupyterlab-widgets~=3.0 in /home/soesit/.local/lib/python3.8/site-packages (from ipywidgets>=7.6.5->plasmapy) (3.0.3)\n",
      "Requirement already satisfied: ipykernel>=4.5.1 in /opt/anaconda3/lib/python3.8/site-packages (from ipywidgets>=7.6.5->plasmapy) (5.3.4)\n",
      "Requirement already satisfied: traitlets>=4.3.1 in /opt/anaconda3/lib/python3.8/site-packages (from ipywidgets>=7.6.5->plasmapy) (5.2.0)\n",
      "Requirement already satisfied: widgetsnbextension~=4.0 in /home/soesit/.local/lib/python3.8/site-packages (from ipywidgets>=7.6.5->plasmapy) (4.0.3)\n",
      "Requirement already satisfied: tornado>=4.2 in /opt/anaconda3/lib/python3.8/site-packages (from ipykernel>=4.5.1->ipywidgets>=7.6.5->plasmapy) (6.1)\n",
      "Requirement already satisfied: jupyter-client in /opt/anaconda3/lib/python3.8/site-packages (from ipykernel>=4.5.1->ipywidgets>=7.6.5->plasmapy) (6.1.12)\n",
      "Requirement already satisfied: pygments in /opt/anaconda3/lib/python3.8/site-packages (from ipython>=6.1.0->ipywidgets>=7.6.5->plasmapy) (2.8.1)\n",
      "Requirement already satisfied: pickleshare in /opt/anaconda3/lib/python3.8/site-packages (from ipython>=6.1.0->ipywidgets>=7.6.5->plasmapy) (0.7.5)\n",
      "Requirement already satisfied: prompt-toolkit!=3.0.0,!=3.0.1,<3.1.0,>=2.0.0 in /opt/anaconda3/lib/python3.8/site-packages (from ipython>=6.1.0->ipywidgets>=7.6.5->plasmapy) (3.0.17)\n",
      "Requirement already satisfied: setuptools>=18.5 in /opt/anaconda3/lib/python3.8/site-packages (from ipython>=6.1.0->ipywidgets>=7.6.5->plasmapy) (52.0.0.post20210125)\n",
      "Requirement already satisfied: pexpect>4.3 in /opt/anaconda3/lib/python3.8/site-packages (from ipython>=6.1.0->ipywidgets>=7.6.5->plasmapy) (4.8.0)\n",
      "Requirement already satisfied: backcall in /opt/anaconda3/lib/python3.8/site-packages (from ipython>=6.1.0->ipywidgets>=7.6.5->plasmapy) (0.2.0)\n",
      "Requirement already satisfied: decorator in /opt/anaconda3/lib/python3.8/site-packages (from ipython>=6.1.0->ipywidgets>=7.6.5->plasmapy) (5.0.6)\n",
      "Requirement already satisfied: jedi>=0.16 in /opt/anaconda3/lib/python3.8/site-packages (from ipython>=6.1.0->ipywidgets>=7.6.5->plasmapy) (0.17.2)\n",
      "Requirement already satisfied: parso<0.8.0,>=0.7.0 in /opt/anaconda3/lib/python3.8/site-packages (from jedi>=0.16->ipython>=6.1.0->ipywidgets>=7.6.5->plasmapy) (0.7.0)\n",
      "Requirement already satisfied: uncertainties>=3.0.1 in /home/soesit/.local/lib/python3.8/site-packages (from lmfit>=1.0.0->plasmapy) (3.1.7)\n",
      "Requirement already satisfied: asteval>=0.9.22 in /home/soesit/.local/lib/python3.8/site-packages (from lmfit>=1.0.0->plasmapy) (0.9.27)\n",
      "Requirement already satisfied: kiwisolver>=1.0.1 in /opt/anaconda3/lib/python3.8/site-packages (from matplotlib>=3.3.0->plasmapy) (1.3.1)\n",
      "Requirement already satisfied: pyparsing!=2.0.4,!=2.1.2,!=2.1.6,>=2.0.3 in /opt/anaconda3/lib/python3.8/site-packages (from matplotlib>=3.3.0->plasmapy) (2.4.7)\n",
      "Requirement already satisfied: pillow>=6.2.0 in /opt/anaconda3/lib/python3.8/site-packages (from matplotlib>=3.3.0->plasmapy) (8.2.0)\n",
      "Requirement already satisfied: cycler>=0.10 in /opt/anaconda3/lib/python3.8/site-packages (from matplotlib>=3.3.0->plasmapy) (0.10.0)\n",
      "Requirement already satisfied: python-dateutil>=2.1 in /opt/anaconda3/lib/python3.8/site-packages (from matplotlib>=3.3.0->plasmapy) (2.8.1)\n",
      "Requirement already satisfied: six in /opt/anaconda3/lib/python3.8/site-packages (from cycler>=0.10->matplotlib>=3.3.0->plasmapy) (1.15.0)\n",
      "Requirement already satisfied: pytz>=2017.3 in /opt/anaconda3/lib/python3.8/site-packages (from pandas>=1.0.0->plasmapy) (2021.1)\n",
      "Requirement already satisfied: ptyprocess>=0.5 in /opt/anaconda3/lib/python3.8/site-packages (from pexpect>4.3->ipython>=6.1.0->ipywidgets>=7.6.5->plasmapy) (0.7.0)\n",
      "Requirement already satisfied: wcwidth in /opt/anaconda3/lib/python3.8/site-packages (from prompt-toolkit!=3.0.0,!=3.0.1,<3.1.0,>=2.0.0->ipython>=6.1.0->ipywidgets>=7.6.5->plasmapy) (0.2.5)\n",
      "Requirement already satisfied: future in /opt/anaconda3/lib/python3.8/site-packages (from uncertainties>=3.0.1->lmfit>=1.0.0->plasmapy) (0.18.2)\n",
      "Requirement already satisfied: websockets>=9.0 in /home/soesit/.local/lib/python3.8/site-packages (from voila>=0.2.15->plasmapy) (10.3)\n",
      "Requirement already satisfied: jupyter-server<2.0.0,>=1.18 in /home/soesit/.local/lib/python3.8/site-packages (from voila>=0.2.15->plasmapy) (1.18.1)\n",
      "Requirement already satisfied: jupyterlab-server<3,>=2.3.0 in /opt/anaconda3/lib/python3.8/site-packages (from voila>=0.2.15->plasmapy) (2.4.0)\n",
      "Requirement already satisfied: nbconvert<7,>=6.4.5 in /opt/anaconda3/lib/python3.8/site-packages (from voila>=0.2.15->plasmapy) (6.5.0)\n",
      "Requirement already satisfied: nbclient<0.6,>=0.4.0 in /home/soesit/.local/lib/python3.8/site-packages (from voila>=0.2.15->plasmapy) (0.5.13)\n",
      "Requirement already satisfied: jupyter-core>=4.11.0 in /home/soesit/.local/lib/python3.8/site-packages (from voila>=0.2.15->plasmapy) (4.11.1)\n",
      "Requirement already satisfied: pyzmq>=13 in /opt/anaconda3/lib/python3.8/site-packages (from jupyter-client->ipykernel>=4.5.1->ipywidgets>=7.6.5->plasmapy) (20.0.0)\n",
      "Requirement already satisfied: prometheus-client in /opt/anaconda3/lib/python3.8/site-packages (from jupyter-server<2.0.0,>=1.18->voila>=0.2.15->plasmapy) (0.10.1)\n",
      "Requirement already satisfied: websocket-client in /opt/anaconda3/lib/python3.8/site-packages (from jupyter-server<2.0.0,>=1.18->voila>=0.2.15->plasmapy) (1.3.2)\n",
      "Requirement already satisfied: anyio<4,>=3.1.0 in /opt/anaconda3/lib/python3.8/site-packages (from jupyter-server<2.0.0,>=1.18->voila>=0.2.15->plasmapy) (3.6.1)\n",
      "Requirement already satisfied: jinja2 in /opt/anaconda3/lib/python3.8/site-packages (from jupyter-server<2.0.0,>=1.18->voila>=0.2.15->plasmapy) (3.1.2)\n",
      "Requirement already satisfied: Send2Trash in /opt/anaconda3/lib/python3.8/site-packages (from jupyter-server<2.0.0,>=1.18->voila>=0.2.15->plasmapy) (1.8.0)\n",
      "Requirement already satisfied: argon2-cffi in /opt/anaconda3/lib/python3.8/site-packages (from jupyter-server<2.0.0,>=1.18->voila>=0.2.15->plasmapy) (20.1.0)\n",
      "Requirement already satisfied: terminado>=0.8.3 in /opt/anaconda3/lib/python3.8/site-packages (from jupyter-server<2.0.0,>=1.18->voila>=0.2.15->plasmapy) (0.9.4)\n",
      "Requirement already satisfied: nbformat>=5.2.0 in /opt/anaconda3/lib/python3.8/site-packages (from jupyter-server<2.0.0,>=1.18->voila>=0.2.15->plasmapy) (5.4.0)\n"
     ]
    },
    {
     "name": "stdout",
     "output_type": "stream",
     "text": [
      "Requirement already satisfied: sniffio>=1.1 in /opt/anaconda3/lib/python3.8/site-packages (from anyio<4,>=3.1.0->jupyter-server<2.0.0,>=1.18->voila>=0.2.15->plasmapy) (1.2.0)\n",
      "Requirement already satisfied: idna>=2.8 in /opt/anaconda3/lib/python3.8/site-packages (from anyio<4,>=3.1.0->jupyter-server<2.0.0,>=1.18->voila>=0.2.15->plasmapy) (2.10)\n",
      "Requirement already satisfied: babel in /opt/anaconda3/lib/python3.8/site-packages (from jupyterlab-server<3,>=2.3.0->voila>=0.2.15->plasmapy) (2.9.0)\n",
      "Requirement already satisfied: jsonschema>=3.0.1 in /opt/anaconda3/lib/python3.8/site-packages (from jupyterlab-server<3,>=2.3.0->voila>=0.2.15->plasmapy) (3.2.0)\n",
      "Requirement already satisfied: requests in /opt/anaconda3/lib/python3.8/site-packages (from jupyterlab-server<3,>=2.3.0->voila>=0.2.15->plasmapy) (2.27.1)\n",
      "Requirement already satisfied: json5 in /opt/anaconda3/lib/python3.8/site-packages (from jupyterlab-server<3,>=2.3.0->voila>=0.2.15->plasmapy) (0.9.5)\n",
      "Requirement already satisfied: MarkupSafe>=2.0 in /opt/anaconda3/lib/python3.8/site-packages (from jinja2->jupyter-server<2.0.0,>=1.18->voila>=0.2.15->plasmapy) (2.1.1)\n",
      "Requirement already satisfied: pyrsistent>=0.14.0 in /opt/anaconda3/lib/python3.8/site-packages (from jsonschema>=3.0.1->jupyterlab-server<3,>=2.3.0->voila>=0.2.15->plasmapy) (0.17.3)\n",
      "Requirement already satisfied: attrs>=17.4.0 in /opt/anaconda3/lib/python3.8/site-packages (from jsonschema>=3.0.1->jupyterlab-server<3,>=2.3.0->voila>=0.2.15->plasmapy) (20.3.0)\n",
      "Requirement already satisfied: nest-asyncio in /opt/anaconda3/lib/python3.8/site-packages (from nbclient<0.6,>=0.4.0->voila>=0.2.15->plasmapy) (1.5.1)\n",
      "Requirement already satisfied: defusedxml in /opt/anaconda3/lib/python3.8/site-packages (from nbconvert<7,>=6.4.5->voila>=0.2.15->plasmapy) (0.7.1)\n",
      "Requirement already satisfied: jupyterlab-pygments in /opt/anaconda3/lib/python3.8/site-packages (from nbconvert<7,>=6.4.5->voila>=0.2.15->plasmapy) (0.1.2)\n",
      "Requirement already satisfied: pandocfilters>=1.4.1 in /opt/anaconda3/lib/python3.8/site-packages (from nbconvert<7,>=6.4.5->voila>=0.2.15->plasmapy) (1.4.3)\n",
      "Requirement already satisfied: entrypoints>=0.2.2 in /opt/anaconda3/lib/python3.8/site-packages (from nbconvert<7,>=6.4.5->voila>=0.2.15->plasmapy) (0.3)\n",
      "Requirement already satisfied: bleach in /opt/anaconda3/lib/python3.8/site-packages (from nbconvert<7,>=6.4.5->voila>=0.2.15->plasmapy) (3.3.0)\n",
      "Requirement already satisfied: mistune<2,>=0.8.1 in /opt/anaconda3/lib/python3.8/site-packages (from nbconvert<7,>=6.4.5->voila>=0.2.15->plasmapy) (0.8.4)\n",
      "Requirement already satisfied: beautifulsoup4 in /opt/anaconda3/lib/python3.8/site-packages (from nbconvert<7,>=6.4.5->voila>=0.2.15->plasmapy) (4.9.3)\n",
      "Requirement already satisfied: tinycss2 in /opt/anaconda3/lib/python3.8/site-packages (from nbconvert<7,>=6.4.5->voila>=0.2.15->plasmapy) (1.1.1)\n",
      "Requirement already satisfied: fastjsonschema in /opt/anaconda3/lib/python3.8/site-packages (from nbformat>=5.2.0->jupyter-server<2.0.0,>=1.18->voila>=0.2.15->plasmapy) (2.15.3)\n",
      "Requirement already satisfied: cffi>=1.0.0 in /opt/anaconda3/lib/python3.8/site-packages (from argon2-cffi->jupyter-server<2.0.0,>=1.18->voila>=0.2.15->plasmapy) (1.14.5)\n",
      "Requirement already satisfied: pycparser in /opt/anaconda3/lib/python3.8/site-packages (from cffi>=1.0.0->argon2-cffi->jupyter-server<2.0.0,>=1.18->voila>=0.2.15->plasmapy) (2.20)\n",
      "Requirement already satisfied: soupsieve>1.2 in /opt/anaconda3/lib/python3.8/site-packages (from beautifulsoup4->nbconvert<7,>=6.4.5->voila>=0.2.15->plasmapy) (2.2.1)\n",
      "Requirement already satisfied: webencodings in /opt/anaconda3/lib/python3.8/site-packages (from bleach->nbconvert<7,>=6.4.5->voila>=0.2.15->plasmapy) (0.5.1)\n",
      "Requirement already satisfied: llvmlite<0.37,>=0.36.0rc1 in /opt/anaconda3/lib/python3.8/site-packages (from numba->plasmapy) (0.36.0)\n",
      "Requirement already satisfied: certifi>=2017.4.17 in /opt/anaconda3/lib/python3.8/site-packages (from requests->jupyterlab-server<3,>=2.3.0->voila>=0.2.15->plasmapy) (2020.12.5)\n",
      "Requirement already satisfied: urllib3<1.27,>=1.21.1 in /opt/anaconda3/lib/python3.8/site-packages (from requests->jupyterlab-server<3,>=2.3.0->voila>=0.2.15->plasmapy) (1.26.4)\n",
      "Requirement already satisfied: charset-normalizer~=2.0.0 in /opt/anaconda3/lib/python3.8/site-packages (from requests->jupyterlab-server<3,>=2.3.0->voila>=0.2.15->plasmapy) (2.0.12)\n"
     ]
    },
    {
     "data": {
      "text/plain": [
       "Ellipsis"
      ]
     },
     "execution_count": 1,
     "metadata": {},
     "output_type": "execute_result"
    }
   ],
   "source": [
    "# Put the command for installing plasmapy here and run the cell. \n",
    "!pip install plasmapy\n",
    "...\n",
    "\n",
    "# Don't forget to restart your kernel"
   ]
  },
  {
   "cell_type": "markdown",
   "metadata": {},
   "source": [
    "&#9989; **Question 3.1.2 (2 points)**: Read the print out of the above cell and answer the following questions in the next markdown cell. \n",
    "\n",
    "1. Was `plasmapy` installed already ? \n",
    "2. What version of `plasmapy` is installed ?"
   ]
  },
  {
   "cell_type": "markdown",
   "metadata": {},
   "source": [
    "``` bash\n",
    "# Put the answers here\n",
    "\n",
    "1. Yes, it looks like most of the package was already installed\n",
    "\n",
    "2. I think it is `plasmapy-0.8.1`\n",
    "\n",
    "```"
   ]
  },
  {
   "cell_type": "markdown",
   "metadata": {},
   "source": [
    "---\n",
    "\n",
    "## Part 3.2: Exploring the new library\n",
    "\n",
    "Now that we have installed `plasmapy` let's look at some of this package features. From its [documentation](https://docs.plasmapy.org/en/stable/index.html) we notice that there is a section called [_Dispersion_](https://docs.plasmapy.org/en/stable/dispersion/index.html) which contains the [Plasma Dispersion Function](https://docs.plasmapy.org/en/stable/api/plasmapy.dispersion.dispersionfunction.plasma_dispersion_func.html#).\n",
    "\n",
    "&#9989; **Question 3.2.1 (2 points)**: In the next cell import the `plasma_dispersion_func` and print its documentation. \n",
    "\n",
    "**HINT:** Notice that the function is `plasmapy.dispersion.dispersionfunction.plasma_dispersion_func`. This means that in `plasma_dispersion_func` is contained in the `dispersionfunction` module which is contained in the `dispersion` module which is contained in the `plasmapy` module"
   ]
  },
  {
   "cell_type": "code",
   "execution_count": 1,
   "metadata": {},
   "outputs": [
    {
     "name": "stdout",
     "output_type": "stream",
     "text": [
      "Defaulting to user installation because normal site-packages is not writeable\n",
      "Requirement already satisfied: numpy==1.21.6 in /home/soesit/.local/lib/python3.8/site-packages (1.21.6)\n"
     ]
    }
   ],
   "source": [
    "!pip install numpy==1.21.6"
   ]
  },
  {
   "cell_type": "code",
   "execution_count": 6,
   "metadata": {},
   "outputs": [
    {
     "name": "stdout",
     "output_type": "stream",
     "text": [
      "Help on function plasma_dispersion_func in module plasmapy.dispersion.dispersionfunction:\n",
      "\n",
      "plasma_dispersion_func(zeta: Union[complex, int, float, numpy.ndarray, astropy.units.quantity.Quantity]) -> Union[complex, float, numpy.ndarray, astropy.units.quantity.Quantity]\n",
      "    Calculate the plasma dispersion function.\n",
      "    \n",
      "    Parameters\n",
      "    ----------\n",
      "    zeta : complex, int, float, ~numpy.ndarray, or ~astropy.units.Quantity\n",
      "        Argument of plasma dispersion function.\n",
      "    \n",
      "    Returns\n",
      "    -------\n",
      "    Z : complex, float, or ~numpy.ndarray\n",
      "        Value of plasma dispersion function.\n",
      "    \n",
      "    Raises\n",
      "    ------\n",
      "    TypeError\n",
      "        If the argument is of an invalid type.\n",
      "    \n",
      "    ~astropy.units.UnitsError\n",
      "        If the argument is a `~astropy.units.Quantity` but is not\n",
      "        dimensionless.\n",
      "    \n",
      "    ValueError\n",
      "        If the argument is not entirely finite.\n",
      "    \n",
      "    See Also\n",
      "    --------\n",
      "    plasma_dispersion_func_deriv\n",
      "    \n",
      "    Notes\n",
      "    -----\n",
      "    The plasma dispersion function is defined as:\n",
      "    \n",
      "    .. math::\n",
      "        Z(\\zeta) = \\pi^{-0.5} \\int_{-\\infty}^{+\\infty}\n",
      "        \\frac{e^{-x^2}}{x-\\zeta} dx\n",
      "    \n",
      "    where the argument is a complex number :cite:p:`fried:1961`.\n",
      "    \n",
      "    In plasma wave theory, the plasma dispersion function appears\n",
      "    frequently when the background medium has a Maxwellian\n",
      "    distribution function.  The argument of this function then refers\n",
      "    to the ratio of a wave's phase velocity to a thermal velocity.\n",
      "    \n",
      "    Examples\n",
      "    --------\n",
      "    >>> plasma_dispersion_func(0)\n",
      "    1.7724538509055159j\n",
      "    >>> plasma_dispersion_func(1j)\n",
      "    0.757872156141312j\n",
      "    >>> plasma_dispersion_func(-1.52+0.47j)\n",
      "    (0.6088888957234254+0.33494583882874024j)\n",
      "    \n",
      "    For user convenience\n",
      "    `~plasmapy.dispersion.dispersionfunction.plasma_dispersion_func_lite`\n",
      "    is bound to this function and can be used as follows:\n",
      "    \n",
      "    >>> plasma_dispersion_func.lite(0)\n",
      "    1.7724538509055159j\n",
      "    >>> plasma_dispersion_func.lite(1j)\n",
      "    0.757872156141312j\n",
      "    >>> plasma_dispersion_func.lite(-1.52+0.47j)\n",
      "    (0.6088888957234254+0.33494583882874024j)\n",
      "\n"
     ]
    }
   ],
   "source": [
    "# Put your code here\n",
    "import numpy as np\n",
    "import plasmapy.dispersion.dispersionfunction\n",
    "\n",
    "\n",
    "help(plasmapy.dispersion.dispersionfunction.plasma_dispersion_func)"
   ]
  },
  {
   "cell_type": "markdown",
   "metadata": {},
   "source": [
    "&#9989; **Questions 3.2.2 (3 points)**: By _reading_ the printed docstring answer the following questions.\n",
    "\n",
    "1. What type of input does the function take?\n",
    "* zeta: int, float, numpy.arry, complex, and something from astropy module\n",
    "\n",
    "2. What is the return type ?\n",
    "* z: float, numpy.arry, complex\n",
    "\n",
    "3. What error is raised if you pass an infinity as the argument?\n",
    "* ValueError"
   ]
  },
  {
   "attachments": {
    "e5e7493c-37f3-4b65-a3ac-d3291c12f459.png": {
     "image/png": "[encoded data removed]"
    }
   },
   "cell_type": "markdown",
   "metadata": {},
   "source": [
    "&#9989; **Question 3.2.3 (3 points)**: Complete the code below and to plot the dispersion function. \n",
    "\n",
    "It should look like this\n",
    "\n",
    "![zeta_plot.png](attachment:e5e7493c-37f3-4b65-a3ac-d3291c12f459.png)\n"
   ]
  },
  {
   "cell_type": "code",
   "execution_count": 10,
   "metadata": {},
   "outputs": [
    {
     "name": "stdout",
     "output_type": "stream",
     "text": [
      "Using matplotlib backend: agg\n",
      "Populating the interactive namespace from numpy and matplotlib\n"
     ]
    },
    {
     "ename": "ValueError",
     "evalue": "x and y must have same first dimension, but have shapes (200,) and (1,)",
     "output_type": "error",
     "traceback": [
      "\u001b[0;31m---------------------------------------------------------------------------\u001b[0m",
      "\u001b[0;31mValueError\u001b[0m                                Traceback (most recent call last)",
      "\u001b[0;32m<ipython-input-10-d47bdb7a8e73>\u001b[0m in \u001b[0;36m<module>\u001b[0;34m\u001b[0m\n\u001b[1;32m      9\u001b[0m \u001b[0mfig\u001b[0m\u001b[0;34m,\u001b[0m \u001b[0max\u001b[0m \u001b[0;34m=\u001b[0m \u001b[0mplt\u001b[0m\u001b[0;34m.\u001b[0m\u001b[0msubplots\u001b[0m\u001b[0;34m(\u001b[0m\u001b[0mfigsize\u001b[0m \u001b[0;34m=\u001b[0m \u001b[0;34m(\u001b[0m\u001b[0;36m10\u001b[0m\u001b[0;34m,\u001b[0m \u001b[0;36m7\u001b[0m\u001b[0;34m)\u001b[0m\u001b[0;34m)\u001b[0m\u001b[0;34m\u001b[0m\u001b[0;34m\u001b[0m\u001b[0m\n\u001b[1;32m     10\u001b[0m \u001b[0;31m# Plot the real part and imaginary part\u001b[0m\u001b[0;34m\u001b[0m\u001b[0;34m\u001b[0m\u001b[0;34m\u001b[0m\u001b[0m\n\u001b[0;32m---> 11\u001b[0;31m \u001b[0max\u001b[0m\u001b[0;34m.\u001b[0m\u001b[0mplot\u001b[0m\u001b[0;34m(\u001b[0m\u001b[0mx\u001b[0m\u001b[0;34m,\u001b[0m \u001b[0;36m200\u001b[0m\u001b[0;34m,\u001b[0m \u001b[0mlabel\u001b[0m \u001b[0;34m=\u001b[0m \u001b[0;34m\"Real part\"\u001b[0m\u001b[0;34m)\u001b[0m\u001b[0;34m\u001b[0m\u001b[0;34m\u001b[0m\u001b[0m\n\u001b[0m\u001b[1;32m     12\u001b[0m \u001b[0max\u001b[0m\u001b[0;34m.\u001b[0m\u001b[0mplot\u001b[0m\u001b[0;34m(\u001b[0m\u001b[0mx\u001b[0m\u001b[0;34m,\u001b[0m \u001b[0;36m200\u001b[0m\u001b[0;34m,\u001b[0m \u001b[0mlabel\u001b[0m \u001b[0;34m=\u001b[0m \u001b[0;34m\"Imaginary part\"\u001b[0m\u001b[0;34m)\u001b[0m\u001b[0;34m\u001b[0m\u001b[0;34m\u001b[0m\u001b[0m\n\u001b[1;32m     13\u001b[0m \u001b[0max\u001b[0m\u001b[0;34m.\u001b[0m\u001b[0mgrid\u001b[0m\u001b[0;34m(\u001b[0m\u001b[0malpha\u001b[0m \u001b[0;34m=\u001b[0m \u001b[0;36m0.2\u001b[0m\u001b[0;34m)\u001b[0m\u001b[0;34m\u001b[0m\u001b[0;34m\u001b[0m\u001b[0m\n",
      "\u001b[0;32m/opt/anaconda3/lib/python3.8/site-packages/matplotlib/axes/_axes.py\u001b[0m in \u001b[0;36mplot\u001b[0;34m(self, scalex, scaley, data, *args, **kwargs)\u001b[0m\n\u001b[1;32m   1741\u001b[0m         \"\"\"\n\u001b[1;32m   1742\u001b[0m         \u001b[0mkwargs\u001b[0m \u001b[0;34m=\u001b[0m \u001b[0mcbook\u001b[0m\u001b[0;34m.\u001b[0m\u001b[0mnormalize_kwargs\u001b[0m\u001b[0;34m(\u001b[0m\u001b[0mkwargs\u001b[0m\u001b[0;34m,\u001b[0m \u001b[0mmlines\u001b[0m\u001b[0;34m.\u001b[0m\u001b[0mLine2D\u001b[0m\u001b[0;34m)\u001b[0m\u001b[0;34m\u001b[0m\u001b[0;34m\u001b[0m\u001b[0m\n\u001b[0;32m-> 1743\u001b[0;31m         \u001b[0mlines\u001b[0m \u001b[0;34m=\u001b[0m \u001b[0;34m[\u001b[0m\u001b[0;34m*\u001b[0m\u001b[0mself\u001b[0m\u001b[0;34m.\u001b[0m\u001b[0m_get_lines\u001b[0m\u001b[0;34m(\u001b[0m\u001b[0;34m*\u001b[0m\u001b[0margs\u001b[0m\u001b[0;34m,\u001b[0m \u001b[0mdata\u001b[0m\u001b[0;34m=\u001b[0m\u001b[0mdata\u001b[0m\u001b[0;34m,\u001b[0m \u001b[0;34m**\u001b[0m\u001b[0mkwargs\u001b[0m\u001b[0;34m)\u001b[0m\u001b[0;34m]\u001b[0m\u001b[0;34m\u001b[0m\u001b[0;34m\u001b[0m\u001b[0m\n\u001b[0m\u001b[1;32m   1744\u001b[0m         \u001b[0;32mfor\u001b[0m \u001b[0mline\u001b[0m \u001b[0;32min\u001b[0m \u001b[0mlines\u001b[0m\u001b[0;34m:\u001b[0m\u001b[0;34m\u001b[0m\u001b[0;34m\u001b[0m\u001b[0m\n\u001b[1;32m   1745\u001b[0m             \u001b[0mself\u001b[0m\u001b[0;34m.\u001b[0m\u001b[0madd_line\u001b[0m\u001b[0;34m(\u001b[0m\u001b[0mline\u001b[0m\u001b[0;34m)\u001b[0m\u001b[0;34m\u001b[0m\u001b[0;34m\u001b[0m\u001b[0m\n",
      "\u001b[0;32m/opt/anaconda3/lib/python3.8/site-packages/matplotlib/axes/_base.py\u001b[0m in \u001b[0;36m__call__\u001b[0;34m(self, data, *args, **kwargs)\u001b[0m\n\u001b[1;32m    271\u001b[0m                 \u001b[0mthis\u001b[0m \u001b[0;34m+=\u001b[0m \u001b[0margs\u001b[0m\u001b[0;34m[\u001b[0m\u001b[0;36m0\u001b[0m\u001b[0;34m]\u001b[0m\u001b[0;34m,\u001b[0m\u001b[0;34m\u001b[0m\u001b[0;34m\u001b[0m\u001b[0m\n\u001b[1;32m    272\u001b[0m                 \u001b[0margs\u001b[0m \u001b[0;34m=\u001b[0m \u001b[0margs\u001b[0m\u001b[0;34m[\u001b[0m\u001b[0;36m1\u001b[0m\u001b[0;34m:\u001b[0m\u001b[0;34m]\u001b[0m\u001b[0;34m\u001b[0m\u001b[0;34m\u001b[0m\u001b[0m\n\u001b[0;32m--> 273\u001b[0;31m             \u001b[0;32myield\u001b[0m \u001b[0;32mfrom\u001b[0m \u001b[0mself\u001b[0m\u001b[0;34m.\u001b[0m\u001b[0m_plot_args\u001b[0m\u001b[0;34m(\u001b[0m\u001b[0mthis\u001b[0m\u001b[0;34m,\u001b[0m \u001b[0mkwargs\u001b[0m\u001b[0;34m)\u001b[0m\u001b[0;34m\u001b[0m\u001b[0;34m\u001b[0m\u001b[0m\n\u001b[0m\u001b[1;32m    274\u001b[0m \u001b[0;34m\u001b[0m\u001b[0m\n\u001b[1;32m    275\u001b[0m     \u001b[0;32mdef\u001b[0m \u001b[0mget_next_color\u001b[0m\u001b[0;34m(\u001b[0m\u001b[0mself\u001b[0m\u001b[0;34m)\u001b[0m\u001b[0;34m:\u001b[0m\u001b[0;34m\u001b[0m\u001b[0;34m\u001b[0m\u001b[0m\n",
      "\u001b[0;32m/opt/anaconda3/lib/python3.8/site-packages/matplotlib/axes/_base.py\u001b[0m in \u001b[0;36m_plot_args\u001b[0;34m(self, tup, kwargs)\u001b[0m\n\u001b[1;32m    397\u001b[0m \u001b[0;34m\u001b[0m\u001b[0m\n\u001b[1;32m    398\u001b[0m         \u001b[0;32mif\u001b[0m \u001b[0mx\u001b[0m\u001b[0;34m.\u001b[0m\u001b[0mshape\u001b[0m\u001b[0;34m[\u001b[0m\u001b[0;36m0\u001b[0m\u001b[0;34m]\u001b[0m \u001b[0;34m!=\u001b[0m \u001b[0my\u001b[0m\u001b[0;34m.\u001b[0m\u001b[0mshape\u001b[0m\u001b[0;34m[\u001b[0m\u001b[0;36m0\u001b[0m\u001b[0;34m]\u001b[0m\u001b[0;34m:\u001b[0m\u001b[0;34m\u001b[0m\u001b[0;34m\u001b[0m\u001b[0m\n\u001b[0;32m--> 399\u001b[0;31m             raise ValueError(f\"x and y must have same first dimension, but \"\n\u001b[0m\u001b[1;32m    400\u001b[0m                              f\"have shapes {x.shape} and {y.shape}\")\n\u001b[1;32m    401\u001b[0m         \u001b[0;32mif\u001b[0m \u001b[0mx\u001b[0m\u001b[0;34m.\u001b[0m\u001b[0mndim\u001b[0m \u001b[0;34m>\u001b[0m \u001b[0;36m2\u001b[0m \u001b[0;32mor\u001b[0m \u001b[0my\u001b[0m\u001b[0;34m.\u001b[0m\u001b[0mndim\u001b[0m \u001b[0;34m>\u001b[0m \u001b[0;36m2\u001b[0m\u001b[0;34m:\u001b[0m\u001b[0;34m\u001b[0m\u001b[0;34m\u001b[0m\u001b[0m\n",
      "\u001b[0;31mValueError\u001b[0m: x and y must have same first dimension, but have shapes (200,) and (1,)"
     ]
    },
    {
     "data": {
      "image/png": "[encoded data removed]",
      "text/plain": [
       "<Figure size 720x504 with 1 Axes>"
      ]
     },
     "metadata": {
      "needs_background": "light"
     },
     "output_type": "display_data"
    }
   ],
   "source": [
    "%pylab\n",
    "%matplotlib inline\n",
    "import seaborn as sns\n",
    "sns.set_context(\"talk\")\n",
    "\n",
    "x = np.linspace(0.0, 2, 200)\n",
    "# Calculate the plasma dispersion function here\n",
    "\n",
    "fig, ax = plt.subplots(figsize = (10, 7))\n",
    "# Plot the real part and imaginary part\n",
    "ax.plot(x, 200, label = \"Real part\")\n",
    "ax.plot(x, 200, label = \"Imaginary part\")\n",
    "ax.grid(alpha = 0.2)\n",
    "ax.legend()\n",
    "ax.set( xlabel = r\"x\", ylabel = r\"Z(x)\")"
   ]
  },
  {
   "cell_type": "markdown",
   "metadata": {},
   "source": [
    "## &#128721; STOP\n",
    "**Questions 3.3 (2 points): Pause to add and commit your changes to your Git repository!**\n",
    "\n",
    "Take a moment to save your notebook, commit the changes to your Git repository using the commit message **\"Committing Part 3\"**, no need to push the changes to GitHub.\n"
   ]
  },
  {
   "cell_type": "markdown",
   "metadata": {},
   "source": [
    "---\n",
    "<a id=\"conclusion\"></a>\n",
    "[Back to ToC](#toc)\n",
    "\n",
    "# Part 4: Finishing (7 points)\n",
    "\n",
    "\n",
    "**Question 4.1 (2 points): Have you put your name and GitHub username at the top of your notebook?**\n",
    "\n",
    "**Question 4.2 (2 points): Have you added the TA and Instructor to your GitHub repository ?**\n",
    "\n",
    "**Question 4.3 (2 points)**: Merge your `homework_01` branch into the `main` branch and checkout the `main` branch\n",
    "\n",
    "```bash\n",
    "\n",
    "# Put the command you used to merge your branch here\n",
    "```\n",
    "\n",
    "\n",
    "**Question 4.3 (1 points):** Finally push your repository to GitHub?**\n",
    "\n",
    "\n",
    "```bash\n",
    "\n",
    "# Put the command you used to push to GitHub here\n",
    "```\n",
    "\n",
    "\n",
    "**NOTE:** The grader is able to see your commit messages, branches and whether you pushed the repo at this stage.\n"
   ]
  },
  {
   "cell_type": "markdown",
   "metadata": {},
   "source": [
    "---\n",
    "## Assignment wrap-up\n",
    "\n",
    "Please fill out the form that appears when you run the code below.  **You must completely fill this out in order to receive credit for the assignment!**"
   ]
  },
  {
   "cell_type": "code",
   "execution_count": null,
   "metadata": {
    "ExecuteTime": {
     "end_time": "2022-09-08T16:05:27.551532Z",
     "start_time": "2022-09-08T16:05:27.546612Z"
    }
   },
   "outputs": [],
   "source": [
    "from IPython.display import HTML\n",
    "HTML(\n",
    "\"\"\"\n",
    "<iframe \n",
    "\tsrc=\"https://forms.office.com/r/SCJx70kJUn\" \n",
    "\twidth=\"800px\" \n",
    "\theight=\"600px\" \n",
    "\tframeborder=\"0\" \n",
    "\tmarginheight=\"0\" \n",
    "\tmarginwidth=\"0\">\n",
    "\tLoading...\n",
    "</iframe>\n",
    "\"\"\"\n",
    ")"
   ]
  },
  {
   "cell_type": "markdown",
   "metadata": {},
   "source": [
    "### Congratulations, you're done!\n",
    "\n",
    "Submit this assignment by uploading it to the course Desire2Learn web page.  Go to the **\"Homework Assignments\"** folder, find the dropbox link for Homework #1, and upload it there."
   ]
  },
  {
   "cell_type": "markdown",
   "metadata": {},
   "source": [
    "&#169; Copyright 2022,  Department of Computational Mathematics, Science and Engineering at Michigan State University"
   ]
  }
 ],
 "metadata": {
  "anaconda-cloud": {},
  "kernelspec": {
   "display_name": "Python 3",
   "language": "python",
   "name": "python3"
  },
  "language_info": {
   "codemirror_mode": {
    "name": "ipython",
    "version": 3
   },
   "file_extension": ".py",
   "mimetype": "text/x-python",
   "name": "python",
   "nbconvert_exporter": "python",
   "pygments_lexer": "ipython3",
   "version": "3.8.8"
  },
  "latex_envs": {
   "LaTeX_envs_menu_present": true,
   "autoclose": false,
   "autocomplete": true,
   "bibliofile": "biblio.bib",
   "cite_by": "apalike",
   "current_citInitial": 1,
   "eqLabelWithNumbers": true,
   "eqNumInitial": 1,
   "hotkeys": {
    "equation": "Ctrl-E",
    "itemize": "Ctrl-I"
   },
   "labels_anchors": false,
   "latex_user_defs": false,
   "report_style_numbering": false,
   "user_envs_cfg": false
  },
  "toc": {
   "base_numbering": 1,
   "nav_menu": {},
   "number_sections": true,
   "sideBar": true,
   "skip_h1_title": false,
   "title_cell": "Table of Contents",
   "title_sidebar": "Contents",
   "toc_cell": false,
   "toc_position": {},
   "toc_section_display": true,
   "toc_window_display": false
  },
  "widgets": {
   "application/vnd.jupyter.widget-state+json": {
    "state": {},
    "version_major": 2,
    "version_minor": 0
   }
  }
 },
 "nbformat": 4,
 "nbformat_minor": 4
}
